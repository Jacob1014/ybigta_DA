{
 "cells": [
  {
   "cell_type": "code",
   "execution_count": 5,
   "id": "2c377f2c",
   "metadata": {},
   "outputs": [],
   "source": [
    "from selenium import webdriver\n",
    "from selenium.webdriver.common.keys import Keys\n",
    "from selenium.webdriver.chrome.service import Service\n",
    "from selenium.webdriver.common.by import By\n",
    "from webdriver_manager.chrome import ChromeDriverManager  # 크롬드라이버 자동업데이트\n",
    "import time\n",
    "import openpyxl"
   ]
  },
  {
   "cell_type": "code",
   "execution_count": 6,
   "id": "690e17b7",
   "metadata": {},
   "outputs": [],
   "source": [
    "#sheet 생성\n",
    "wb = openpyxl.Workbook()\n",
    "sheet = wb.active\n",
    "sheet.append([\"순위\", \"상품명\", \"가격\", \"링크\"])"
   ]
  },
  {
   "cell_type": "code",
   "execution_count": 7,
   "id": "72e724ef",
   "metadata": {},
   "outputs": [
    {
     "name": "stderr",
     "output_type": "stream",
     "text": [
      "\n",
      "\n",
      "====== WebDriver manager ======\n",
      "Current google-chrome version is 99.0.4844\n",
      "Get LATEST chromedriver version for 99.0.4844 google-chrome\n",
      "Driver [/Users/siyounglee/.wdm/drivers/chromedriver/mac64/99.0.4844.51/chromedriver] found in cache\n"
     ]
    }
   ],
   "source": [
    "service = Service(executable_path=ChromeDriverManager().install())\n",
    "browser = webdriver.Chrome(service=service)\n",
    "\n",
    "# 웹페이지 주소 이동\n",
    "browser.get(\"https://www.naver.com\")\n",
    "time.sleep(1)"
   ]
  },
  {
   "cell_type": "code",
   "execution_count": 8,
   "id": "016666b3",
   "metadata": {},
   "outputs": [],
   "source": [
    "#네이버쇼핑 들어가기\n",
    "browser.find_element(By.CSS_SELECTOR, \"a.nav.shop\").click()\n",
    "time.sleep(1)\n",
    "\n",
    "#검색창\n",
    "search = browser.find_element(By.CSS_SELECTOR, \"input.co_srh_input._input \")\n",
    "\n",
    "#검색어 입력\n",
    "search.send_keys('아이폰13')\n",
    "time.sleep(5)\n",
    "search.send_keys(Keys.ENTER)\n",
    "time.sleep(5)\n",
    "\n",
    "# 스크롤 전 높이\n",
    "before_h = browser.execute_script(\"return window.scrollY\") #execute_script = 자바스크립트 명령어 실행\n",
    "\n",
    "# 무한 스크롤 - 반복문\n",
    "while True:\n",
    "# 맨 아래로 스크롤을 내린다. body = 모든 웹사이트에 존재\n",
    "# 키보드의 END키 누르면 웹페이지 맨아래로이동\n",
    "    browser.find_element(By.CSS_SELECTOR, \"body\").send_keys(Keys.END)\n",
    "    time.sleep(1) # 스크롤 사이 페이지 로딩시간\n",
    "    after_h = browser.execute_script(\"return window.scrollY\")\n",
    "\n",
    "    if after_h == before_h:\n",
    "        break\n",
    "    before_h = after_h  # 스크롤 후 높이가 다르면 before_h를 업데이트"
   ]
  },
  {
   "cell_type": "code",
   "execution_count": 9,
   "id": "c04b1d63",
   "metadata": {},
   "outputs": [],
   "source": [
    "#필요 정보 추출(순위, 상품명, 가격, 링크)\n",
    "items = browser.find_elements(By.CSS_SELECTOR, \"li.basicList_item__2XT81\")\n",
    "\n",
    "i = 1\n",
    "\n",
    "for item in items:\n",
    "    try:\n",
    "        item.find_element(By.CSS_SELECTOR, \"span.thumbnail_sale__T-L2g\").text   #핫딜 제거\n",
    "        continue\n",
    "    except:\n",
    "        name = item.find_element(By.CSS_SELECTOR, 'div.basicList_title__3P9Q7').text\n",
    "        price = item.find_element(By.CSS_SELECTOR, \"span.price_num__2WUXn\").text\n",
    "        link = item.find_element(By.CSS_SELECTOR,\"a.basicList_link__1MaTN\").get_attribute('href')\n",
    "    \n",
    "    sheet.append([i, name, price, link])\n",
    "    i += 1"
   ]
  },
  {
   "cell_type": "code",
   "execution_count": 10,
   "id": "697b27c2",
   "metadata": {},
   "outputs": [
    {
     "name": "stdout",
     "output_type": "stream",
     "text": [
      "('순위', '상품명', '가격')\n",
      "(1, 'Apple 아이폰 13 256GB [자급제]', '1,149,930원')\n",
      "(2, 'Apple 아이폰 13 미니 128GB [자급제]', '902,460원')\n",
      "(3, 'Apple 아이폰 13 프로 256GB [자급제]', '1,385,000원')\n",
      "(4, 'Apple 아이폰 13 128GB [자급제]', '1,008,580원')\n",
      "(5, 'Apple 아이폰 13 프로 128GB [자급제]', '1,255,000원')\n",
      "(6, 'Apple 아이폰 13 프로 맥스 256GB [자급제]', '1,532,940원')\n",
      "(7, 'Apple 아이폰 13 미니 256GB [자급제]', '1,009,750원')\n",
      "(8, 'Apple 아이폰 13 프로 맥스 128GB [자급제]', '1,445,230원')\n",
      "(9, 'Apple 아이폰 13 프로 맥스 512GB [자급제]', '1,781,250원')\n",
      "(10, 'Apple 아이폰 13 프로 맥스 1TB [자급제]', '2,033,950원')\n",
      "(11, 'Apple 아이폰 13 프로 512GB [자급제]', '1,609,900원')\n",
      "(12, 'Apple 아이폰 13 미니 512GB [자급제]', '1,259,000원')\n",
      "(13, 'Apple 아이폰 13 미니 128GB [LG U+]', '85,990원')\n",
      "(14, 'Apple 아이폰 13 512GB [자급제]', '1,328,900원')\n",
      "(15, 'Apple 아이폰 13 프로 256GB [LG U+]', '831,690원')\n",
      "(16, 'Apple 아이폰 13 미니 256GB [LG U+]', '194,000원')\n",
      "(17, 'Apple 아이폰 13 프로 1TB [자급제]', '1,902,850원')\n",
      "(18, 'Apple 아이폰 13 프로 128GB [LG U+]', '632,000원')\n",
      "(19, 'Apple 아이폰 13 미니 512GB [LG U+]', '417,790원')\n",
      "(20, 'Apple 아이폰 13 128GB [LG U+]', '423,000원')\n",
      "(21, 'Apple 아이폰 13 프로 맥스 256GB [LG U+]', '959,590원')\n",
      "(22, 'Apple 아이폰 13 프로 맥스 128GB [LG U+]', '899,000원')\n",
      "(23, 'Apple 아이폰 13 프로 512GB [LG U+]', '1,173,190원')\n",
      "(24, 'Apple 아이폰 13 256GB [LG U+]', '543,000원')\n",
      "(25, 'Apple 아이폰 13 512GB [LG U+]', '910,000원')\n",
      "(26, 'Apple 아이폰 13 프로 맥스 512GB [LG U+]', '1,305,190원')\n",
      "(27, 'Apple 아이폰 13 프로 1TB [LG U+]', '1,426,190원')\n",
      "(28, 'Apple 아이폰 13 프로 맥스 1TB [LG U+]', '1,580,190원')\n",
      "(29, 'Apple 아이폰 13 mini 자급제 256GB 핑크', '1,009,780원')\n",
      "(30, 'Apple 아이폰 13 자급제 핑크 256GB', '1,181,160원')\n",
      "(31, 'Apple 아이폰 13 mini 자급제 256GB 스타라이트', '1,190,000원')\n",
      "(32, 'Apple 아이폰 13 mini 자급제 128GB 핑크', '912,280원')\n",
      "(33, 'Apple 아이폰 13 미니 자급제 128GB - 그린 (MNFF3KH/A)', '950,000원')\n",
      "(34, '애플 아이폰13 미니 128GB 자급제 미개봉 새상품', '694,510원')\n",
      "(35, 'Apple 아이폰 13 Pro Max 자급제 시에라 블루 128GB', '1,490,000원')\n",
      "(36, '아이폰 Apple 아이폰13 미니 128GB 기기값 24만원', '246,000원')\n",
      "(37, '아이폰 13 자급제 128GB 스타라이트 MLPG3KH/A', '1,046,727원')\n",
      "(38, '아이폰13 미니 128GB 미개봉 새상품', '724,710원')\n",
      "(39, '아이폰13 프로 맥스 128G 자급제 미개통 새상품', '1,255,410원')\n"
     ]
    }
   ],
   "source": [
    "# 추출 정보 확인\n",
    "for row in sheet.iter_rows(max_col=3, values_only=True):\n",
    "    print(row)"
   ]
  },
  {
   "cell_type": "code",
   "execution_count": 11,
   "id": "9b35fd4e",
   "metadata": {},
   "outputs": [],
   "source": [
    "#크롤링 결과 저장\n",
    "wb.save(\"crawling_results.xlsx\")"
   ]
  },
  {
   "cell_type": "code",
   "execution_count": null,
   "id": "3c90a2b3",
   "metadata": {},
   "outputs": [],
   "source": []
  }
 ],
 "metadata": {
  "kernelspec": {
   "display_name": "Python 3 (ipykernel)",
   "language": "python",
   "name": "python3"
  },
  "language_info": {
   "codemirror_mode": {
    "name": "ipython",
    "version": 3
   },
   "file_extension": ".py",
   "mimetype": "text/x-python",
   "name": "python",
   "nbconvert_exporter": "python",
   "pygments_lexer": "ipython3",
   "version": "3.9.7"
  }
 },
 "nbformat": 4,
 "nbformat_minor": 5
}
